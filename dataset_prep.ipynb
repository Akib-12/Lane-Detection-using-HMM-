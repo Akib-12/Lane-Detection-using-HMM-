{
 "cells": [
  {
   "cell_type": "code",
   "execution_count": 34,
   "source": [
    "import numpy as np\n",
    "import pandas as pd"
   ],
   "outputs": [],
   "metadata": {
    "collapsed": true
   }
  },
  {
   "cell_type": "code",
   "execution_count": 35,
   "source": [
    "df = pd.read_csv('lane_data_1.csv')\n",
    "df = df[df['Location'] == 'us-101']"
   ],
   "outputs": [],
   "metadata": {
    "collapsed": false,
    "pycharm": {
     "name": "#%%\n"
    }
   }
  },
  {
   "cell_type": "code",
   "execution_count": 50,
   "outputs": [
    {
     "data": {
      "text/plain": "         Unnamed: 0  v_Vel  Lane_ID Location    Global_Time\n8242843     8242843  40.00        4   us-101  1118846979700\n5805738     5805738  40.00        4   us-101  1118846979800\n7908571     7908571  40.00        4   us-101  1118846979900\n459432       459432  40.00        4   us-101  1118846980000\n5527553     5527553  40.00        4   us-101  1118846980100\n...             ...    ...      ...      ...            ...\n2234970     2234970  45.41        3   us-101  1118847084800\n1740711     1740711  61.85        3   us-101  1118847084800\n8281136     8281136  10.00        1   us-101  1118847084800\n1568462     1568462  58.91        4   us-101  1118847084800\n5130343     5130343   0.00        1   us-101  1118847084800\n\n[100000 rows x 5 columns]",
      "text/html": "<div>\n<style scoped>\n    .dataframe tbody tr th:only-of-type {\n        vertical-align: middle;\n    }\n\n    .dataframe tbody tr th {\n        vertical-align: top;\n    }\n\n    .dataframe thead th {\n        text-align: right;\n    }\n</style>\n<table border=\"1\" class=\"dataframe\">\n  <thead>\n    <tr style=\"text-align: right;\">\n      <th></th>\n      <th>Unnamed: 0</th>\n      <th>v_Vel</th>\n      <th>Lane_ID</th>\n      <th>Location</th>\n      <th>Global_Time</th>\n    </tr>\n  </thead>\n  <tbody>\n    <tr>\n      <th>8242843</th>\n      <td>8242843</td>\n      <td>40.00</td>\n      <td>4</td>\n      <td>us-101</td>\n      <td>1118846979700</td>\n    </tr>\n    <tr>\n      <th>5805738</th>\n      <td>5805738</td>\n      <td>40.00</td>\n      <td>4</td>\n      <td>us-101</td>\n      <td>1118846979800</td>\n    </tr>\n    <tr>\n      <th>7908571</th>\n      <td>7908571</td>\n      <td>40.00</td>\n      <td>4</td>\n      <td>us-101</td>\n      <td>1118846979900</td>\n    </tr>\n    <tr>\n      <th>459432</th>\n      <td>459432</td>\n      <td>40.00</td>\n      <td>4</td>\n      <td>us-101</td>\n      <td>1118846980000</td>\n    </tr>\n    <tr>\n      <th>5527553</th>\n      <td>5527553</td>\n      <td>40.00</td>\n      <td>4</td>\n      <td>us-101</td>\n      <td>1118846980100</td>\n    </tr>\n    <tr>\n      <th>...</th>\n      <td>...</td>\n      <td>...</td>\n      <td>...</td>\n      <td>...</td>\n      <td>...</td>\n    </tr>\n    <tr>\n      <th>2234970</th>\n      <td>2234970</td>\n      <td>45.41</td>\n      <td>3</td>\n      <td>us-101</td>\n      <td>1118847084800</td>\n    </tr>\n    <tr>\n      <th>1740711</th>\n      <td>1740711</td>\n      <td>61.85</td>\n      <td>3</td>\n      <td>us-101</td>\n      <td>1118847084800</td>\n    </tr>\n    <tr>\n      <th>8281136</th>\n      <td>8281136</td>\n      <td>10.00</td>\n      <td>1</td>\n      <td>us-101</td>\n      <td>1118847084800</td>\n    </tr>\n    <tr>\n      <th>1568462</th>\n      <td>1568462</td>\n      <td>58.91</td>\n      <td>4</td>\n      <td>us-101</td>\n      <td>1118847084800</td>\n    </tr>\n    <tr>\n      <th>5130343</th>\n      <td>5130343</td>\n      <td>0.00</td>\n      <td>1</td>\n      <td>us-101</td>\n      <td>1118847084800</td>\n    </tr>\n  </tbody>\n</table>\n<p>100000 rows × 5 columns</p>\n</div>"
     },
     "execution_count": 50,
     "metadata": {},
     "output_type": "execute_result"
    }
   ],
   "source": [
    "df"
   ],
   "metadata": {
    "collapsed": false,
    "pycharm": {
     "name": "#%%\n"
    }
   }
  },
  {
   "cell_type": "code",
   "execution_count": 36,
   "source": [
    "df.sort_values('Global_Time', inplace=True)"
   ],
   "outputs": [],
   "metadata": {}
  },
  {
   "cell_type": "code",
   "execution_count": 40,
   "source": [
    "lane_cnt = max(df['Lane_ID'])\n",
    "print(lane_cnt)\n",
    "\n",
    "rows = len(df['Lane_ID'])\n",
    "df.head()\n"
   ],
   "outputs": [
    {
     "name": "stdout",
     "output_type": "stream",
     "text": [
      "8\n"
     ]
    },
    {
     "data": {
      "text/plain": "         Unnamed: 0  v_Vel  Lane_ID Location    Global_Time\n8242843     8242843   40.0        4   us-101  1118846979700\n5805738     5805738   40.0        4   us-101  1118846979800\n7908571     7908571   40.0        4   us-101  1118846979900\n459432       459432   40.0        4   us-101  1118846980000\n5527553     5527553   40.0        4   us-101  1118846980100",
      "text/html": "<div>\n<style scoped>\n    .dataframe tbody tr th:only-of-type {\n        vertical-align: middle;\n    }\n\n    .dataframe tbody tr th {\n        vertical-align: top;\n    }\n\n    .dataframe thead th {\n        text-align: right;\n    }\n</style>\n<table border=\"1\" class=\"dataframe\">\n  <thead>\n    <tr style=\"text-align: right;\">\n      <th></th>\n      <th>Unnamed: 0</th>\n      <th>v_Vel</th>\n      <th>Lane_ID</th>\n      <th>Location</th>\n      <th>Global_Time</th>\n    </tr>\n  </thead>\n  <tbody>\n    <tr>\n      <th>8242843</th>\n      <td>8242843</td>\n      <td>40.0</td>\n      <td>4</td>\n      <td>us-101</td>\n      <td>1118846979700</td>\n    </tr>\n    <tr>\n      <th>5805738</th>\n      <td>5805738</td>\n      <td>40.0</td>\n      <td>4</td>\n      <td>us-101</td>\n      <td>1118846979800</td>\n    </tr>\n    <tr>\n      <th>7908571</th>\n      <td>7908571</td>\n      <td>40.0</td>\n      <td>4</td>\n      <td>us-101</td>\n      <td>1118846979900</td>\n    </tr>\n    <tr>\n      <th>459432</th>\n      <td>459432</td>\n      <td>40.0</td>\n      <td>4</td>\n      <td>us-101</td>\n      <td>1118846980000</td>\n    </tr>\n    <tr>\n      <th>5527553</th>\n      <td>5527553</td>\n      <td>40.0</td>\n      <td>4</td>\n      <td>us-101</td>\n      <td>1118846980100</td>\n    </tr>\n  </tbody>\n</table>\n</div>"
     },
     "execution_count": 40,
     "metadata": {},
     "output_type": "execute_result"
    }
   ],
   "metadata": {
    "collapsed": false,
    "pycharm": {
     "name": "#%%\n"
    }
   }
  },
  {
   "cell_type": "code",
   "execution_count": 41,
   "outputs": [],
   "source": [
    "df = df[0:100000]"
   ],
   "metadata": {
    "collapsed": false,
    "pycharm": {
     "name": "#%%\n"
    }
   }
  },
  {
   "cell_type": "code",
   "execution_count": 42,
   "source": [
    "def get_initial_matrix():\n",
    "    matrix_out_degree = np.zeros((lane_cnt, lane_cnt))\n",
    "    for i in range(1, rows):\n",
    "        prev_lane_id = int(df.iloc[i - 1][2])\n",
    "        present_lane_id = int(df.iloc[i][2])\n",
    "        # print(present_lane_id, present_lane_id)\n",
    "        # if i == 100:\n",
    "        #     break\n",
    "        matrix_out_degree[prev_lane_id - 1][present_lane_id - 1] += 1\n",
    "    return matrix_out_degree\n",
    "\n",
    "\n",
    "matrix = get_initial_matrix()"
   ],
   "outputs": [],
   "metadata": {
    "collapsed": false,
    "pycharm": {
     "name": "#%%\n"
    }
   }
  },
  {
   "cell_type": "code",
   "execution_count": 43,
   "source": [
    "matrix"
   ],
   "outputs": [
    {
     "data": {
      "text/plain": "array([[4.700e+03, 4.775e+03, 4.139e+03, 3.794e+03, 4.012e+03, 3.970e+02,\n        9.400e+01, 4.700e+01],\n       [4.678e+03, 4.379e+03, 3.955e+03, 3.631e+03, 4.018e+03, 4.410e+02,\n        9.600e+01, 4.000e+01],\n       [4.115e+03, 3.936e+03, 3.395e+03, 3.152e+03, 3.546e+03, 3.800e+02,\n        7.200e+01, 3.500e+01],\n       [3.782e+03, 3.696e+03, 3.179e+03, 2.835e+03, 3.144e+03, 3.250e+02,\n        6.500e+01, 4.200e+01],\n       [4.063e+03, 3.935e+03, 3.498e+03, 3.209e+03, 3.339e+03, 3.560e+02,\n        8.300e+01, 4.700e+01],\n       [4.570e+02, 4.130e+02, 3.510e+02, 3.380e+02, 3.430e+02, 3.000e+01,\n        8.000e+00, 2.000e+00],\n       [9.800e+01, 7.000e+01, 7.400e+01, 7.700e+01, 8.600e+01, 1.200e+01,\n        0.000e+00, 1.000e+00],\n       [6.600e+01, 3.400e+01, 4.000e+01, 3.100e+01, 4.200e+01, 1.000e+00,\n        0.000e+00, 0.000e+00]])"
     },
     "execution_count": 43,
     "metadata": {},
     "output_type": "execute_result"
    }
   ],
   "metadata": {}
  },
  {
   "cell_type": "code",
   "execution_count": 44,
   "source": [
    "def get_transition_matrix(mat):\n",
    "    ret_mat = np.zeros((lane_cnt, lane_cnt))\n",
    "    for row in range(lane_cnt):\n",
    "        sum = 0\n",
    "        for col in range(lane_cnt):\n",
    "            sum += mat[row][col]\n",
    "        for col in range(lane_cnt):\n",
    "            ret_mat[row][col] = mat[row][col] / sum\n",
    "\n",
    "    return ret_mat\n",
    "\n",
    "\n",
    "transition_matrix = get_transition_matrix(matrix)"
   ],
   "outputs": [],
   "metadata": {
    "collapsed": false,
    "pycharm": {
     "name": "#%%\n"
    }
   }
  },
  {
   "cell_type": "code",
   "execution_count": 51,
   "outputs": [
    {
     "data": {
      "text/plain": "array([[0.21404499, 0.21746061, 0.18849622, 0.17278441, 0.18271245,\n        0.01807997, 0.0042809 , 0.00214045],\n       [0.22026556, 0.20618702, 0.18622281, 0.17096713, 0.18918919,\n        0.02076467, 0.0045202 , 0.00188342],\n       [0.22086845, 0.2112608 , 0.18222318, 0.1691804 , 0.19032795,\n        0.02039611, 0.00386453, 0.00187859],\n       [0.22158425, 0.21654558, 0.18625498, 0.1661003 , 0.18420436,\n        0.01904148, 0.0038083 , 0.00246075],\n       [0.21926606, 0.21235834, 0.18877496, 0.17317863, 0.18019428,\n        0.01921209, 0.00447922, 0.00253643],\n       [0.23532441, 0.21266735, 0.1807415 , 0.17404737, 0.17662204,\n        0.01544799, 0.00411946, 0.00102987],\n       [0.23444976, 0.16746411, 0.17703349, 0.18421053, 0.20574163,\n        0.02870813, 0.        , 0.00239234],\n       [0.30841121, 0.1588785 , 0.18691589, 0.14485981, 0.19626168,\n        0.0046729 , 0.        , 0.        ]])"
     },
     "execution_count": 51,
     "metadata": {},
     "output_type": "execute_result"
    }
   ],
   "source": [
    "transition_matrix"
   ],
   "metadata": {
    "collapsed": false,
    "pycharm": {
     "name": "#%%\n"
    }
   }
  },
  {
   "cell_type": "code",
   "execution_count": 45,
   "source": [
    "def get_initial_state_probability(mat):\n",
    "    ret_mat = np.zeros(lane_cnt)\n",
    "    total_sum = np.sum(mat)\n",
    "    for i in range(lane_cnt):\n",
    "        ret_mat[i] = np.sum(mat[i]) / total_sum\n",
    "    return ret_mat\n",
    "\n",
    "\n",
    "initial_state_prob = get_initial_state_probability(matrix)"
   ],
   "outputs": [],
   "metadata": {
    "collapsed": false,
    "pycharm": {
     "name": "#%%\n"
    }
   }
  },
  {
   "cell_type": "code",
   "execution_count": 52,
   "outputs": [
    {
     "data": {
      "text/plain": "array([0.2195822 , 0.21238212, 0.18631186, 0.17068171, 0.18530185,\n       0.01942019, 0.00418004, 0.00214002])"
     },
     "execution_count": 52,
     "metadata": {},
     "output_type": "execute_result"
    }
   ],
   "source": [
    "initial_state_prob"
   ],
   "metadata": {
    "collapsed": false,
    "pycharm": {
     "name": "#%%\n"
    }
   }
  },
  {
   "cell_type": "code",
   "execution_count": 46,
   "source": [
    "speed_division = 3"
   ],
   "outputs": [],
   "metadata": {
    "collapsed": false,
    "pycharm": {
     "name": "#%%\n"
    }
   }
  },
  {
   "cell_type": "code",
   "execution_count": 54,
   "source": [
    "def speed_range(speed):\n",
    "    if speed <= 40:\n",
    "        return 0\n",
    "    if speed <= 60:\n",
    "        return 1\n",
    "    return 2\n",
    "\n",
    "\n",
    "def get_emi_matrix(mat):\n",
    "    matrix_out_degree = np.zeros((lane_cnt, speed_division))\n",
    "    for i in range(1, rows):\n",
    "        present_lane_id = int(df.iloc[i][2])\n",
    "        speed = df.iloc[i][1]\n",
    "        matrix_out_degree[present_lane_id - 1][speed_range(speed)] += 1\n",
    "    return matrix_out_degree\n",
    "\n",
    "\n",
    "emi_mat = get_emi_matrix(matrix)"
   ],
   "outputs": [],
   "metadata": {
    "collapsed": false,
    "pycharm": {
     "name": "#%%\n"
    }
   }
  },
  {
   "cell_type": "code",
   "execution_count": 55,
   "outputs": [
    {
     "data": {
      "text/plain": "array([[13041.,  8098.,   820.],\n       [ 9306., 10715.,  1217.],\n       [ 7739.,  9578.,  1314.],\n       [ 4287., 11347.,  1433.],\n       [ 4815., 12501.,  1214.],\n       [   61.,  1040.,   841.],\n       [   78.,   265.,    75.],\n       [    0.,    71.,   143.]])"
     },
     "execution_count": 55,
     "metadata": {},
     "output_type": "execute_result"
    }
   ],
   "source": [
    "emi_mat"
   ],
   "metadata": {
    "collapsed": false,
    "pycharm": {
     "name": "#%%\n"
    }
   }
  },
  {
   "cell_type": "code",
   "execution_count": 56,
   "source": [
    "def get_emission_probability(mat):\n",
    "    ret_mat = np.zeros((lane_cnt, speed_division))\n",
    "    for row in range(lane_cnt):\n",
    "        for col in range(speed_division):\n",
    "            ret_mat[row][col] = mat[row][col] / np.sum(mat[row])\n",
    "    return ret_mat\n",
    "\n",
    "\n",
    "emission_probability = get_emission_probability(emi_mat)"
   ],
   "outputs": [],
   "metadata": {
    "collapsed": false,
    "pycharm": {
     "name": "#%%\n"
    }
   }
  },
  {
   "cell_type": "code",
   "execution_count": 57,
   "source": [
    "np.savetxt(\"tm.txt\", transition_matrix, delimiter=\" \")\n",
    "np.savetxt(\"em.txt\", emission_probability, delimiter=\" \")\n",
    "np.savetxt(\"ini_p.txt\", initial_state_prob, delimiter=\" \")"
   ],
   "outputs": [],
   "metadata": {
    "collapsed": false,
    "pycharm": {
     "name": "#%%\n"
    }
   }
  },
  {
   "cell_type": "code",
   "execution_count": null,
   "outputs": [],
   "source": [],
   "metadata": {
    "collapsed": false,
    "pycharm": {
     "name": "#%%\n"
    }
   }
  }
 ],
 "metadata": {
  "kernelspec": {
   "name": "python3",
   "display_name": "Python 3.9.6 64-bit ('Lane-Detection-using-HMM-': conda)"
  },
  "language_info": {
   "name": "python",
   "version": "3.9.6",
   "mimetype": "text/x-python",
   "codemirror_mode": {
    "name": "ipython",
    "version": 3
   },
   "pygments_lexer": "ipython3",
   "nbconvert_exporter": "python",
   "file_extension": ".py"
  },
  "interpreter": {
   "hash": "e6aac2fd13a2e3a56f8eed9e56817713fa77b06385b07042b4378dc6af2a2964"
  }
 },
 "nbformat": 4,
 "nbformat_minor": 2
}
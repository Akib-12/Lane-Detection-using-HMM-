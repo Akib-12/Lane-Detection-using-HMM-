{
 "cells": [
  {
   "cell_type": "code",
   "execution_count": 17,
   "metadata": {
    "collapsed": true
   },
   "outputs": [],
   "source": [
    "from hmmlearn import hmm\n",
    "import numpy as np\n",
    "from collections import Counter"
   ]
  },
  {
   "cell_type": "code",
   "execution_count": 18,
   "outputs": [],
   "source": [
    "seed = 93\n",
    "np.random.seed(seed)"
   ],
   "metadata": {
    "collapsed": false,
    "pycharm": {
     "name": "#%%\n"
    }
   }
  },
  {
   "cell_type": "code",
   "execution_count": 19,
   "outputs": [],
   "source": [
    "states = [\"left_lane\", \"right_lane\"]\n",
    "observations = [\"low_speed\", \"high_speed\"]"
   ],
   "metadata": {
    "collapsed": false,
    "pycharm": {
     "name": "#%%\n"
    }
   }
  },
  {
   "cell_type": "code",
   "execution_count": 20,
   "outputs": [],
   "source": [
    "discrete_model = hmm.MultinomialHMM(n_components=2,\n",
    "                                    algorithm='viterbi',  # decoder algorithm.\n",
    "                                    random_state=seed,\n",
    "                                    n_iter=10,\n",
    "                                    tol=0.01  # EM convergence threshold (gain in log-likelihood)\n",
    "                                    )"
   ],
   "metadata": {
    "collapsed": false,
    "pycharm": {
     "name": "#%%\n"
    }
   }
  },
  {
   "cell_type": "code",
   "execution_count": 21,
   "outputs": [],
   "source": [
    "discrete_model.startprob_ = np.array(\n",
    "    [1/3, 2/3]\n",
    ")\n",
    "discrete_model.transmat_ = np.array([\n",
    "    [0.6, 0.4],  # P(state_t+1|state_t=state_0)\n",
    "    [0.2, 0.8]]  # P(state_t+1|state_t=state_1)\n",
    ")\n",
    "discrete_model.emissionprob_ = np.array(\n",
    "    [[0.4, 0.6],  # P(obs|state_0)\n",
    "     [0.8, 0.2]]  # P(obs|state_1)\n",
    ")"
   ],
   "metadata": {
    "collapsed": false,
    "pycharm": {
     "name": "#%%\n"
    }
   }
  },
  {
   "cell_type": "code",
   "execution_count": 22,
   "outputs": [
    {
     "name": "stdout",
     "output_type": "stream",
     "text": [
      "Counter({1: 66134, 0: 33866})\n",
      "Counter({0: 66520, 1: 33480})\n"
     ]
    }
   ],
   "source": [
    "sample_obs, sample_states = discrete_model.sample(100000)\n",
    "print(Counter(sample_states.flatten()))\n",
    "print(Counter(sample_obs.flatten()))"
   ],
   "metadata": {
    "collapsed": false,
    "pycharm": {
     "name": "#%%\n"
    }
   }
  },
  {
   "cell_type": "code",
   "execution_count": 23,
   "outputs": [
    {
     "name": "stdout",
     "output_type": "stream",
     "text": [
      "[0.33333333 0.66666667]\n"
     ]
    }
   ],
   "source": [
    "# Compute the stationary distribution of states.\n",
    "eigvals, eigvecs = np.linalg.eig(discrete_model.transmat_.T)\n",
    "eigvec = np.real_if_close(eigvecs[:, np.argmax(eigvals)])\n",
    "\n",
    "# normalisation\n",
    "stat_distr = eigvec / eigvec.sum()\n",
    "print(stat_distr)"
   ],
   "metadata": {
    "collapsed": false,
    "pycharm": {
     "name": "#%%\n"
    }
   }
  },
  {
   "cell_type": "code",
   "execution_count": 24,
   "outputs": [
    {
     "name": "stdout",
     "output_type": "stream",
     "text": [
      "p(state|'low_speed') = [[0.2 0.8]] => most likely state is 'right_lane'\n",
      "p(state|'high_speed') = [[0.6 0.4]] => most likely state is 'left_lane'\n"
     ]
    }
   ],
   "source": [
    "for i in range(len(observations)):\n",
    "    p = discrete_model.predict_proba(np.array([[i]]))\n",
    "    most_likely = discrete_model.predict(np.array([[i]]))\n",
    "    print(\"p(state|'{}') = {} => most likely state is '{}'\".format(\n",
    "        observations[i], p, states[int(most_likely[0])]))"
   ],
   "metadata": {
    "collapsed": false,
    "pycharm": {
     "name": "#%%\n"
    }
   }
  },
  {
   "cell_type": "code",
   "execution_count": 25,
   "outputs": [
    {
     "name": "stdout",
     "output_type": "stream",
     "text": [
      "right_lane -> low_speed\n",
      "prob = 0.5333333333333333\n",
      "---\n",
      "left_lane -> high_speed\n",
      "prob = 0.19999999999999998\n"
     ]
    }
   ],
   "source": [
    "# The Viterbi decoding algorithm uses the `alpha*` values.\n",
    "# And the first `alpha*` are `alpha` values.\n",
    "# Hence, the decoding method should return the state with the **highest joint probability**.\n",
    "obs_0 = np.array([[0]]).T\n",
    "obs_1 = np.array([[1]]).T\n",
    "# Log probability of the maximum likelihood path through the HMM\n",
    "logprob_0, state_0 = discrete_model.decode(obs_0)  # 8/15 = alpha[`low_speed`](`right_lane`)\n",
    "logprob_1, state_1 = discrete_model.decode(obs_1)  # 2/5 = alpha[`high_speed`](`left_lane`)\n",
    "\n",
    "print(\"{} -> {}\".format(states[int(state_0)], observations[int(obs_0)]))\n",
    "print(\"prob = {}\".format(np.exp(logprob_0)))\n",
    "print(\"---\")\n",
    "print(\"{} -> {}\".format(states[int(state_1)], observations[int(obs_1)]))\n",
    "print(\"prob = {}\".format(np.exp(logprob_1)))"
   ],
   "metadata": {
    "collapsed": false,
    "pycharm": {
     "name": "#%%\n"
    }
   }
  },
  {
   "cell_type": "code",
   "execution_count": 26,
   "outputs": [
    {
     "name": "stdout",
     "output_type": "stream",
     "text": [
      "p(low_speed) = 0.6666666666666667 \n",
      "p(high_speed) = 0.33333333333333337 \n",
      "---\n",
      "p(low_speed) = 0.6666666666666667\n",
      "   posterior p(state|low_speed) = [[0.2 0.8]]\n",
      "p(high_speed) = 0.33333333333333337\n",
      "   posterior p(state|high_speed) = [[0.6 0.4]]\n"
     ]
    }
   ],
   "source": [
    "# For a single observation\n",
    "# Compute the log probability under the model.\n",
    "for i in range(len(observations)):\n",
    "    p = np.exp(discrete_model.score(np.array([[i]])))\n",
    "    print(\"p({}) = {} \".format(observations[i], p))\n",
    "\n",
    "print(\"---\")\n",
    "# Compute the log probability under the model and compute posteriors.\n",
    "for i in range(len(observations)):\n",
    "    p = (discrete_model.score_samples(np.array([[i]])))\n",
    "    print(\"p({}) = {}\\n   posterior p(state|{}) = {}\".format(observations[i], np.exp(p[0]), observations[i],  p[1]))"
   ],
   "metadata": {
    "collapsed": false,
    "pycharm": {
     "name": "#%%\n"
    }
   }
  },
  {
   "cell_type": "code",
   "execution_count": 27,
   "outputs": [
    {
     "name": "stdout",
     "output_type": "stream",
     "text": [
      "p(['low_speed', 'high_speed', 'low_speed']) = 0.13184 \n"
     ]
    }
   ],
   "source": [
    "obs_sequence = np.array([[0, 1, 0]]).T\n",
    "p = np.exp(discrete_model.score(obs_sequence))\n",
    "print(\"p({}) = {} \".format([observations[i] for i in obs_sequence.T[0]], p))"
   ],
   "metadata": {
    "collapsed": false,
    "pycharm": {
     "name": "#%%\n"
    }
   }
  },
  {
   "cell_type": "code",
   "execution_count": 28,
   "outputs": [],
   "source": [
    "n_state = discrete_model.n_components\n",
    "start_prob = discrete_model.startprob_\n",
    "emit_prob = discrete_model.emissionprob_\n",
    "transmat_prob = discrete_model.transmat_"
   ],
   "metadata": {
    "collapsed": false,
    "pycharm": {
     "name": "#%%\n"
    }
   }
  },
  {
   "cell_type": "code",
   "execution_count": 29,
   "outputs": [],
   "source": [
    "def forward_algo(obs_seq):\n",
    "    alpha = np.zeros((len(obs_seq), n_state))\n",
    "    alpha[0] = np.transpose(emit_prob)[obs_seq[0]] * start_prob\n",
    "    for t in range(alpha.shape[0]-1):\n",
    "        alpha[t+1] = np.transpose(emit_prob)[obs_seq[t+1]] * np.dot(alpha[t], transmat_prob)\n",
    "    return alpha"
   ],
   "metadata": {
    "collapsed": false,
    "pycharm": {
     "name": "#%%\n"
    }
   }
  },
  {
   "cell_type": "code",
   "execution_count": 30,
   "outputs": [
    {
     "name": "stdout",
     "output_type": "stream",
     "text": [
      "[[0.13333333 0.53333333]\n",
      " [0.112      0.096     ]\n",
      " [0.03456    0.09728   ]]\n"
     ]
    }
   ],
   "source": [
    "obs_sequence = np.array([[0, 1, 0]]).T\n",
    "alpha = forward_algo(obs_sequence)\n",
    "print(alpha)"
   ],
   "metadata": {
    "collapsed": false,
    "pycharm": {
     "name": "#%%\n"
    }
   }
  },
  {
   "cell_type": "code",
   "execution_count": 31,
   "outputs": [],
   "source": [
    "def backward_algo(obs_seq):\n",
    "    beta = np.zeros((len(obs_seq), n_state))\n",
    "    beta[len(obs_seq) - 1] = np.ones((n_state))\n",
    "    for t in reversed(range(len(obs_seq)-1)):\n",
    "        beta[t] = np.dot(beta[t + 1] * np.transpose(emit_prob)[obs_seq[t + 1]], np.transpose(transmat_prob))\n",
    "    return beta"
   ],
   "metadata": {
    "collapsed": false,
    "pycharm": {
     "name": "#%%\n"
    }
   }
  },
  {
   "cell_type": "code",
   "execution_count": 32,
   "outputs": [
    {
     "name": "stdout",
     "output_type": "stream",
     "text": [
      "[[0.2592 0.1824]\n",
      " [0.56   0.72  ]\n",
      " [1.     1.    ]]\n"
     ]
    }
   ],
   "source": [
    "beta = backward_algo(obs_sequence)\n",
    "print(beta)"
   ],
   "metadata": {
    "collapsed": false,
    "pycharm": {
     "name": "#%%\n"
    }
   }
  },
  {
   "cell_type": "code",
   "execution_count": 32,
   "outputs": [],
   "source": [],
   "metadata": {
    "collapsed": false,
    "pycharm": {
     "name": "#%%\n"
    }
   }
  }
 ],
 "metadata": {
  "kernelspec": {
   "display_name": "Python 3",
   "language": "python",
   "name": "python3"
  },
  "language_info": {
   "codemirror_mode": {
    "name": "ipython",
    "version": 2
   },
   "file_extension": ".py",
   "mimetype": "text/x-python",
   "name": "python",
   "nbconvert_exporter": "python",
   "pygments_lexer": "ipython2",
   "version": "2.7.6"
  }
 },
 "nbformat": 4,
 "nbformat_minor": 0
}